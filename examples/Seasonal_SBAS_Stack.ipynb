{
 "cells": [
  {
   "cell_type": "markdown",
   "id": "a9d0e306-ed2d-43e7-a9e2-7a555a415368",
   "metadata": {},
   "source": [
    "# Seasonal SBAS Stacks\n",
    "\n",
    "SBAS time series analyses require a coherent, fully-connected, redundant stack of interferograms with small perpendicular and temporal baselines.\n",
    "\n",
    "Seasonal impacts to scatterers often break coherence, making it difficult to prepare long time series for MintPy. In these cases, it may possible to create a seasonal stack, removing seasons that would cause a loss of coherence. \n",
    "\n",
    "To avoid creating a disconnected stack, seasonal gaps can be bridged with interferograms having one-year temporal baselines."
   ]
  },
  {
   "cell_type": "markdown",
   "id": "373176bb-c2e4-4d36-8d39-9b5cbe61f562",
   "metadata": {},
   "source": [
    "---\n",
    "## Define seasonal SBAS stack parameters"
   ]
  },
  {
   "cell_type": "code",
   "execution_count": null,
   "id": "29ba6cc1-706b-456e-b769-ec042f1fbec9",
   "metadata": {},
   "outputs": [],
   "source": [
    "# This does not need to be the first scene in the stack. \n",
    "# slc_id = 'S1A_IW_SLC__1SDV_20200519T004428_20200519T004455_032627_03C760_27C2-SLC'\n",
    "# slc_id = 'S1_008794_IW2_20200519T004446_VV_27C2-BURST'\n",
    "slc_id = 'S1_342203_IW1_20170720T161142_VV_DF0C-BURST'\n",
    "\n",
    "# mm-dd\n",
    "season_start_date = '5-15'\n",
    "season_end_date = '9-15'\n",
    "\n",
    "# yyyy-mm-dd\n",
    "stack_start_date = '2017-01-01'\n",
    "stack_end_date = '2019-12-31'\n",
    "\n",
    "max_temporal_baseline = 36\n",
    "max_perp_baseline = 100\n",
    "\n",
    "# Helps determine the expected number of pairs for a given temporal baseline threshold when bridging seasons\n",
    "repeat_pass_freq = 12"
   ]
  },
  {
   "cell_type": "markdown",
   "id": "9a0191b3-252d-441f-9590-7d6f52cda815",
   "metadata": {},
   "source": [
    "---\n",
    "## Build an SBASStack object\n",
    "\n",
    "- If the `season`, `start`, `end`, and `refSceneName` args are passed upon initialization, an SBAS stack will be immediately calculated using default repeat pass frequency and baselines\n",
    "- Parameters can be added or adjusted, generating updated SBAS stacks\n",
    "\n",
    "Baseline and repeat pass frequency defaults:\n",
    "- `perpendicularBaseline`: 400\n",
    "- `temporBaseline`: 36\n",
    "- `repeatPassFrequency`: 12\n",
    "- `perpBaselineShortcut`: True"
   ]
  },
  {
   "cell_type": "code",
   "execution_count": null,
   "id": "e95c0927-494c-4ff0-8fab-73fe09f8076f",
   "metadata": {},
   "outputs": [],
   "source": [
    "%load_ext autoreload\n",
    "%autoreload 2"
   ]
  },
  {
   "cell_type": "code",
   "execution_count": null,
   "id": "df9e63f2-a82d-42fd-8980-57209f437ba9",
   "metadata": {
    "scrolled": true
   },
   "outputs": [],
   "source": [
    "import asf_search as asf\n",
    "\n",
    "args = {\n",
    "    'season': (season_start_date, season_end_date), \n",
    "    'start': stack_start_date, \n",
    "    'end': stack_end_date, \n",
    "    'refSceneName': slc_id,\n",
    "    'perpendicularBaseline': max_perp_baseline,\n",
    "    'temporBaseline': max_temporal_baseline,\n",
    "    # 'repeatPassFrequency': 12,\n",
    "    # 'overlapThreshold': 0.8,\n",
    "    # 'perpBaselineShortcut': True\n",
    "}\n",
    "\n",
    "sbas = asf.ASFSBASStack(**args)"
   ]
  },
  {
   "cell_type": "markdown",
   "id": "2c227989-0759-4d27-9cc9-85a38720f0e8",
   "metadata": {},
   "source": [
    "## Plot the Stack with the perpendicular baseline shortcut turned on\n",
    "\n",
    "This will generate an SBAS stack quickly but may exclude some scenes that meet the perpendicular baseline constraint. Instead of using the perpendicular baseline between each scene pair, the perpendicular baseline for every scene in the stack is referenced against the stack's reference scene. This approach and is much faster as it requires only a single API call to build a stack. "
   ]
  },
  {
   "cell_type": "code",
   "execution_count": null,
   "id": "35eeeadc-0fea-4b84-bd02-3e70c89859ac",
   "metadata": {},
   "outputs": [],
   "source": [
    "sbas.perp_baseline_shortcut = True\n",
    "sbas.plot()"
   ]
  },
  {
   "cell_type": "markdown",
   "id": "937ff8c9-e8cf-47aa-94d8-eba6fb613b1f",
   "metadata": {},
   "source": [
    "## Turn off the perpendicular baseline shortcut and replot\n",
    "\n",
    "To find the perpendicular baselines for each pair in the stack, a stack search must be performed for every scene in the SBAS stack.\n",
    "\n",
    "This more accurate approach is slower but may include additional pairs."
   ]
  },
  {
   "cell_type": "code",
   "execution_count": null,
   "id": "40bcea51-b855-4162-bcae-c9a33bb8aee2",
   "metadata": {},
   "outputs": [],
   "source": [
    "sbas.perp_baseline_shortcut = False\n",
    "sbas.plot()"
   ]
  },
  {
   "cell_type": "markdown",
   "id": "36b5feac-f45b-4d18-b54e-b0955dd0ad7b",
   "metadata": {},
   "source": [
    "## Turn the baseline shortcut back on and extend the length of the time series"
   ]
  },
  {
   "cell_type": "code",
   "execution_count": null,
   "id": "50e36da5-0302-4784-af34-11cc8ece6482",
   "metadata": {},
   "outputs": [],
   "source": [
    "sbas.perp_baseline_shortcut = True\n",
    "sbas.end = '2023-11-01'\n",
    "sbas.plot()"
   ]
  },
  {
   "cell_type": "code",
   "execution_count": null,
   "id": "2a24e6c2-da32-4048-9d31-eb99842a89ad",
   "metadata": {
    "scrolled": true
   },
   "outputs": [],
   "source": [
    "sbas.sbas_stack"
   ]
  },
  {
   "cell_type": "markdown",
   "id": "1f466e81-d336-42c0-a51e-64e9ebede574",
   "metadata": {},
   "source": [
    "---\n",
    "## Adjust the time bounds and re-plot"
   ]
  },
  {
   "cell_type": "code",
   "execution_count": null,
   "id": "30f26816-28e1-4a27-a4f2-73fc8bac0610",
   "metadata": {
    "scrolled": true
   },
   "outputs": [],
   "source": [
    "sbas.temporal_baseline = 48\n",
    "sbas.plot()"
   ]
  },
  {
   "cell_type": "code",
   "execution_count": null,
   "id": "b8e9b3cf-7a83-42f3-87dc-498548638ed9",
   "metadata": {},
   "outputs": [],
   "source": [
    "sbas.ref_scene_id = 'S1_342203_IW1_20170626T161141_VV_B980-BURST'\n",
    "sbas.plot()"
   ]
  },
  {
   "cell_type": "markdown",
   "id": "7ea88635-7ab9-40cc-b54c-dfc876a4fd84",
   "metadata": {},
   "source": [
    "---\n",
    "## Create a list of scene IDs for each InSAR pair to submit as HyP3 On-Demand Processing jobs"
   ]
  },
  {
   "cell_type": "code",
   "execution_count": null,
   "id": "93f2fedc-b114-46b4-925b-1e37074f29d2",
   "metadata": {},
   "outputs": [],
   "source": [
    "insar_pairs = sbas.get_insar_pairs()\n",
    "print(f'InSAR Pairs: {len(insar_pairs)}')"
   ]
  },
  {
   "cell_type": "markdown",
   "id": "050d0325-ca9f-4f02-8488-b130fe45a948",
   "metadata": {},
   "source": [
    "---\n",
    "## Authenticate with HyP3 using your EarthData Login Credentials"
   ]
  },
  {
   "cell_type": "code",
   "execution_count": null,
   "id": "8d3c9955-e1b8-46b6-ad0c-4fcad03b5ab1",
   "metadata": {},
   "outputs": [],
   "source": [
    "import hyp3_sdk as sdk\n",
    "hyp3 = sdk.HyP3(prompt=True)"
   ]
  },
  {
   "cell_type": "markdown",
   "id": "3d0d6740-df9a-4e5a-88ee-4de282251c8a",
   "metadata": {},
   "source": [
    "---\n",
    "## Define a HyP3 project name for your SBAS stack"
   ]
  },
  {
   "cell_type": "code",
   "execution_count": null,
   "id": "6811cb7e-39a7-455f-a288-d56679f52f41",
   "metadata": {},
   "outputs": [],
   "source": [
    "project_name = input(\"Enter a HyP3 project name\")"
   ]
  },
  {
   "cell_type": "markdown",
   "id": "e81777c2-c393-4e3e-8800-8ae311b522b3",
   "metadata": {},
   "source": [
    "---\n",
    "## Request the interferograms"
   ]
  },
  {
   "cell_type": "code",
   "execution_count": null,
   "id": "e2523258-a890-4100-843a-5ac5ef94d2cc",
   "metadata": {},
   "outputs": [],
   "source": [
    "job_type = 'INSAR_GAMMA' if 'SLC' in slc_id else 'INSAR_ISCE_BURST'\n",
    "\n",
    "insar_jobs = sdk.Batch()\n",
    "for pair in insar_pairs:\n",
    "    if 'SLC' in slc_id:\n",
    "        insar_jobs += hyp3.submit_insar_job(pair[0], pair[1], name=project_name)\n",
    "    else:\n",
    "        insar_jobs += hyp3.submit_insar_isce_burst_job(pair[0], pair[1], name=project_name)\n",
    "print(insar_jobs)"
   ]
  },
  {
   "cell_type": "code",
   "execution_count": null,
   "id": "cd060468-2b1c-43b7-aa2b-5207f8105dfb",
   "metadata": {},
   "outputs": [],
   "source": [
    "insar_jobs = hyp3.watch(insar_jobs)"
   ]
  }
 ],
 "metadata": {
  "kernelspec": {
   "display_name": "Python 3 (ipykernel)",
   "language": "python",
   "name": "python3"
  },
  "language_info": {
   "codemirror_mode": {
    "name": "ipython",
    "version": 3
   },
   "file_extension": ".py",
   "mimetype": "text/x-python",
   "name": "python",
   "nbconvert_exporter": "python",
   "pygments_lexer": "ipython3",
   "version": "3.12.5"
  }
 },
 "nbformat": 4,
 "nbformat_minor": 5
}
