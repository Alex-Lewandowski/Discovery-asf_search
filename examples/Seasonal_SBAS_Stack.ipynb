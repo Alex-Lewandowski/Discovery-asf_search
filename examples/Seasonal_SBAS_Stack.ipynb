{
 "cells": [
  {
   "cell_type": "markdown",
   "id": "a9d0e306-ed2d-43e7-a9e2-7a555a415368",
   "metadata": {},
   "source": [
    "# Seasonal SBAS Stacks\n",
    "\n",
    "SBAS time series analyses require a coherent, fully-connected, redundant stack of interferograms with small perpendicular and temporal baselines.\n",
    "\n",
    "Seasonal impacts to scatterers often break coherence, making it difficult to prepare long time series for MintPy. In these cases, it may possible to create a seasonal stack, removing seasons that would cause a loss of coherence. \n",
    "\n",
    "To avoid creating a asfnnected stack, seasonal gaps can be bridged with interferograms having one-year temporal baselines."
   ]
  },
  {
   "cell_type": "markdown",
   "id": "373176bb-c2e4-4d36-8d39-9b5cbe61f562",
   "metadata": {},
   "source": [
    "---\n",
    "## Define seasonal SBAS stack parameters"
   ]
  },
  {
   "cell_type": "code",
   "execution_count": null,
   "id": "29ba6cc1-706b-456e-b769-ec042f1fbec9",
   "metadata": {},
   "outputs": [],
   "source": [
    "# This does not need to be the first scene in the stack. \n",
    "# slc_id = 'S1A_IW_SLC__1SDV_20200519T004428_20200519T004455_032627_03C760_27C2-SLC'\n",
    "slc_id = 'S1_008794_IW2_20200519T004446_VV_27C2-BURST'\n",
    "\n",
    "# mm-dd\n",
    "season_start_date = '4-15'\n",
    "season_end_date = '10-15'\n",
    "\n",
    "# yyyy-mm-dd\n",
    "stack_start_date = '2020-01-01'\n",
    "stack_end_date = '2021-11-01'\n",
    "\n",
    "max_temporal_baseline = 36\n",
    "max_perp_baseline = 150\n",
    "\n",
    "# Helps determine the expected number of pairs for a given temporal baseline threshold when bridging seasons\n",
    "repeat_pass_freq = 12"
   ]
  },
  {
   "cell_type": "markdown",
   "id": "9a0191b3-252d-441f-9590-7d6f52cda815",
   "metadata": {},
   "source": [
    "---\n",
    "## Build an SBASStack object\n",
    "\n",
    "- If the `season`, `start`, `end`, and `refSceneName` args are passed upon initialization, an SBAS stack will be immediately calculated using default repeat pass frequency and baselines\n",
    "- Parameters can be added or adjusted, generating updated SBAS stacks\n",
    "\n",
    "Baseline and repeat pass frequency defaults:\n",
    "- `perpendicularBaseline`: 400\n",
    "- `temporBaseline`: 36\n",
    "- `repeatPassFrequency`: 12"
   ]
  },
  {
   "cell_type": "code",
   "execution_count": null,
   "id": "df9e63f2-a82d-42fd-8980-57209f437ba9",
   "metadata": {
    "scrolled": true
   },
   "outputs": [],
   "source": [
    "import asf_search as asf\n",
    "\n",
    "args = {\n",
    "    'season': (season_start_date, season_end_date), \n",
    "    'start': stack_start_date, \n",
    "    'end': stack_end_date, \n",
    "    'refSceneName': slc_id,\n",
    "    # 'perpendicularBaseline': 400,\n",
    "    # 'temporBaseline': 36,\n",
    "    # 'repeatPassFrequency': 12\n",
    "}\n",
    "\n",
    "sbas = asf.ASFSBASStack(**args)"
   ]
  },
  {
   "cell_type": "code",
   "execution_count": null,
   "id": "854f0153-a370-4805-ad36-08898407f335",
   "metadata": {
    "scrolled": true
   },
   "outputs": [],
   "source": [
    "sbas.sbas_stack"
   ]
  },
  {
   "cell_type": "code",
   "execution_count": null,
   "id": "870b2521-8c3e-40f3-9aa4-2b0d6d329c7d",
   "metadata": {},
   "outputs": [],
   "source": [
    "sbas.plot()"
   ]
  },
  {
   "cell_type": "markdown",
   "id": "fe0561e1-4830-41b8-bf70-9e20b65bdd67",
   "metadata": {},
   "source": [
    "---\n",
    "## Update baselines and re-plot"
   ]
  },
  {
   "cell_type": "code",
   "execution_count": null,
   "id": "3bb22ae3-91d3-4c0f-afbd-49137f25e569",
   "metadata": {},
   "outputs": [],
   "source": [
    "sbas.perp_baseline = 150\n",
    "sbas.temporal_baseline = 48\n",
    "sbas.plot()"
   ]
  },
  {
   "cell_type": "markdown",
   "id": "1f466e81-d336-42c0-a51e-64e9ebede574",
   "metadata": {},
   "source": [
    "---\n",
    "## Adjust the time bounds and re-plot"
   ]
  },
  {
   "cell_type": "code",
   "execution_count": null,
   "id": "30f26816-28e1-4a27-a4f2-73fc8bac0610",
   "metadata": {},
   "outputs": [],
   "source": [
    "sbas.temporal_baseline = 36\n",
    "sbas.end = '2023-11-01'\n",
    "sbas.plot()"
   ]
  },
  {
   "cell_type": "markdown",
   "id": "7ea88635-7ab9-40cc-b54c-dfc876a4fd84",
   "metadata": {},
   "source": [
    "---\n",
    "## Create a list of scene IDs for each InSAR pair to submit as HyP3 On-Demand Processing jobs"
   ]
  },
  {
   "cell_type": "code",
   "execution_count": null,
   "id": "93f2fedc-b114-46b4-925b-1e37074f29d2",
   "metadata": {},
   "outputs": [],
   "source": [
    "insar_pairs = sbas.get_insar_pairs()\n",
    "print(f'InSAR Pairs: {len(insar_pairs)}')"
   ]
  },
  {
   "cell_type": "markdown",
   "id": "050d0325-ca9f-4f02-8488-b130fe45a948",
   "metadata": {},
   "source": [
    "---\n",
    "## Authenticate with HyP3 using your EarthData Login Credentials"
   ]
  },
  {
   "cell_type": "code",
   "execution_count": null,
   "id": "8d3c9955-e1b8-46b6-ad0c-4fcad03b5ab1",
   "metadata": {},
   "outputs": [],
   "source": [
    "import hyp3_sdk as sdk\n",
    "hyp3 = sdk.HyP3(prompt=True)"
   ]
  },
  {
   "cell_type": "markdown",
   "id": "3d0d6740-df9a-4e5a-88ee-4de282251c8a",
   "metadata": {},
   "source": [
    "---\n",
    "## Define a HyP3 project name for your SBAS stack"
   ]
  },
  {
   "cell_type": "code",
   "execution_count": null,
   "id": "6811cb7e-39a7-455f-a288-d56679f52f41",
   "metadata": {},
   "outputs": [],
   "source": [
    "project_name = input(\"Enter a HyP3 project name\")"
   ]
  },
  {
   "cell_type": "markdown",
   "id": "e81777c2-c393-4e3e-8800-8ae311b522b3",
   "metadata": {},
   "source": [
    "---\n",
    "## Request the interferograms"
   ]
  },
  {
   "cell_type": "code",
   "execution_count": null,
   "id": "e2523258-a890-4100-843a-5ac5ef94d2cc",
   "metadata": {},
   "outputs": [],
   "source": [
    "job_type = 'INSAR_GAMMA' if 'SLC' in slc_id else 'INSAR_ISCE_BURST'\n",
    "\n",
    "insar_jobs = sdk.Batch()\n",
    "for pair in insar_pairs:\n",
    "    if 'SLC' in slc_id:\n",
    "        insar_jobs += hyp3.submit_insar_job(pair[0], pair[1], name=project_name)\n",
    "    else:\n",
    "        insar_jobs += hyp3.submit_insar_isce_burst_job(pair[0], pair[1], name=project_name)\n",
    "print(insar_jobs)"
   ]
  },
  {
   "cell_type": "code",
   "execution_count": null,
   "id": "cd060468-2b1c-43b7-aa2b-5207f8105dfb",
   "metadata": {},
   "outputs": [],
   "source": [
    "insar_jobs = hyp3.watch(insar_jobs)"
   ]
  }
 ],
 "metadata": {
  "kernelspec": {
   "display_name": "base",
   "language": "python",
   "name": "python3"
  },
  "language_info": {
   "codemirror_mode": {
    "name": "ipython",
    "version": 3
   },
   "file_extension": ".py",
   "mimetype": "text/x-python",
   "name": "python",
   "nbconvert_exporter": "python",
   "pygments_lexer": "ipython3",
   "version": "3.11.6"
  }
 },
 "nbformat": 4,
 "nbformat_minor": 5
}
