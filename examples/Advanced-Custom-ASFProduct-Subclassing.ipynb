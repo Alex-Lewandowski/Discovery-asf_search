{
 "cells": [
  {
   "cell_type": "markdown",
   "metadata": {},
   "source": [
    "# Subclassing `ASFProduct`\n",
    "\n",
    "`ASFProduct` is the base class for all search result objects as of asf-search v7.0.0. There are several subclasses of `ASFProduct` that asf-search uses for specific platforms and product types with unique properties/functionality."
   ]
  },
  {
   "cell_type": "code",
   "execution_count": null,
   "metadata": {},
   "outputs": [],
   "source": [
    "import asf_search as asf\n",
    "products = ['S1A_IW_SLC__1SDV_20231224T032123_20231224T032150_051791_064179_16F5-SLC', 'S1_185682_IW2_20210224T161634_VV_035E-BURST','S1-GUNW-D-R-087-tops-20190301_20190223-161540-20645N_18637N-PP-7a85-v2_0_1-unwrappedPhase','ALPSRP111041130-RTC_HI_RES']\n",
    "results = asf.product_search(product_list=products)\n",
    "results"
   ]
  },
  {
   "cell_type": "markdown",
   "metadata": {},
   "source": [
    "Notice the different type in the `results` list: `S1Product`, `S1BURSTProduct`, `ARIAS1GUNWProduct`, and `ALOSProduct`.\n",
    "Each of these are subclasses of type `ASFProduct`.\n",
    "\n",
    "Let's compare the `properties` of `S1Product` and `ALOSProduct`"
   ]
  },
  {
   "cell_type": "code",
   "execution_count": null,
   "metadata": {},
   "outputs": [],
   "source": [
    "s1, s1Burst, ariaGunw, alos = results\n",
    "\n",
    "def compare_properties(lhs: asf.ASFProduct, rhs: asf.ASFProduct):\n",
    "    # Compares properties of two ASFProduct objects in a color coded table\n",
    "    # values printed in red are missing from that product type altogether\n",
    "    \n",
    "    # Color Coding\n",
    "    RED = '\\033[31m'\n",
    "    GREEN = '\\033[32m'\n",
    "    BLUE  = '\\033[34m'\n",
    "    RESET = '\\033[0m'\n",
    "\n",
    "    print(f'\\t{GREEN}{type(lhs)}{RESET}\\t{BLUE}{type(rhs)}{RESET}')\n",
    "    \n",
    "    keys = {*lhs.properties.keys(), *rhs.properties.keys()}\n",
    "    for key in keys:\n",
    "        print(f\"{key}:\\n\\t{GREEN}{lhs.properties.get(key, f'{RED}None')}{RESET}\\t{BLUE}{rhs.properties.get(key, f'{RED}None')}{RESET}\\n\")\n",
    "\n",
    "compare_properties(s1, alos)"
   ]
  },
  {
   "cell_type": "markdown",
   "metadata": {},
   "source": [
    "Notice a few properties (marked in red) are missing from each product properties dict. For example, `S1Product` has `pgeVersion`, while `ALOSProduct` has `offNadirAngle`, `faradayRotation`, and `insarStackId`. Moreover, their `baseline` field differs."
   ]
  },
  {
   "cell_type": "code",
   "execution_count": null,
   "metadata": {},
   "outputs": [],
   "source": [
    "print(f\"{s1.properties['fileID']}\\n\\t{s1.baseline}\\n\")\n",
    "print(f\"{alos.properties['fileID']}\\n\\t{alos.baseline}\")"
   ]
  },
  {
   "cell_type": "markdown",
   "metadata": {},
   "source": [
    "`ASFProduct` has a class enum, `BaselineCalcType` that determines how asf-search will handle perpendicular stack calculations. Each subclass keeps track of their baseline calculation type via `ASFProduct.baseline_type`\n",
    "\n",
    "The three `BaselineCalcType` types:\n",
    "- `NONE` Cannot be used in baseline calculations\n",
    "- `PRE_CALCULATED` Has pre-calculated insarBaseline value that will be used for perpendicular calculations\n",
    "- `CALCULATED` Uses position/velocity state vectors and ascending node time for perpendicular calculations\n",
    "\n",
    "Any subclass object that changes `baseline_type` from the default of `BaselineCalcType.NONE` is elligble for building a baseline stacking with `ASFProduct.stack()` (see the 4-Baseline_Search.ipynb example notebook for more examples of baseline stacking)."
   ]
  },
  {
   "cell_type": "code",
   "execution_count": null,
   "metadata": {},
   "outputs": [],
   "source": [
    "print(f\"Baseline Calculation Types\")\n",
    "print(f\"ASFProduct:\\t {asf.ASFProduct.baseline_type}\")\n",
    "print(f\"ALOSProduct:\\t {alos.baseline_type}\")\n",
    "print(f\"S1Product:\\t {s1.baseline_type}\")"
   ]
  },
  {
   "cell_type": "markdown",
   "metadata": {},
   "source": [
    "`ASFProduct` subclasses even have their own stack search option methods. The `ASFProduct` implementation of `get_stack_opts()` returns `None`, but subclasses like `S1Product` and `ALOSProduct` have different approaches."
   ]
  },
  {
   "cell_type": "code",
   "execution_count": null,
   "metadata": {},
   "outputs": [],
   "source": [
    "print(f\"S1Product:\\n{s1.get_stack_opts()}\\n\")\n",
    "print(f\"ALOSProduct:\\n{alos.get_stack_opts()}\")"
   ]
  },
  {
   "cell_type": "markdown",
   "metadata": {},
   "source": [
    "Sublcasses of type `ASFProduct` can just as easily be parent classes to other subclasses, like `S1Product`, which is the parent class to `S1BurstProduct` and `ARIAS1GUNWProduct`."
   ]
  },
  {
   "cell_type": "code",
   "execution_count": null,
   "metadata": {},
   "outputs": [],
   "source": [
    "print(\"S1BurstProduct:\")\n",
    "print(f\"\\tburst dict:\\n\\t{s1Burst.properties['burst']}\")\n",
    "print(f\"\\nS1BurstProduct.get_stack_opts(): {s1Burst.get_stack_opts()}\\n\\n\")\n",
    "\n",
    "print(f\"ARIAS1GUNWProduct:\")\n",
    "print(f\"\\tperpendicularBaseline: {ariaGunw.properties['perpendicularBaseline']}\")\n",
    "print(f\"\\tOrbit: {ariaGunw.properties['orbit']}\")"
   ]
  },
  {
   "cell_type": "markdown",
   "metadata": {},
   "source": [
    "Because `ASFProduct` is built for subclassing, that means users can provide their own custom subclasses."
   ]
  },
  {
   "cell_type": "code",
   "execution_count": null,
   "metadata": {},
   "outputs": [],
   "source": [
    "import copy\n",
    "from typing import Type, Union\n",
    "from asf_search import ASFSearchOptions, ASFSession\n",
    "from asf_search.ASFSearchOptions import ASFSearchOptions\n",
    "from asf_search.CMR.translate import try_parse_int\n",
    "from datetime import datetime\n",
    "\n",
    "class MyCustomS1Subclass(asf.S1Product):\n",
    "    def __init__(\n",
    "                #default ASFProduct constructor arguments\n",
    "                self, args: dict = {}, session: ASFSession = ASFSession()\n",
    "            ):\n",
    "        super().__init__(args, session)\n",
    "\n",
    "        # totaly unique property of MyCustomClass\n",
    "        self.timestamp = datetime.now()\n",
    "\n",
    "    # _base_properties is a special dict of ASFProduct that maps keywords to granule UMM json\n",
    "    # defining properties and their paths here in conjunction with `get_property_paths()` \n",
    "    # will let you easily access them in the product's `properties` dictionary\n",
    "    # see `ASFProduct.umm_get()` for explanation of pathing\n",
    "    _base_properties = {\n",
    "        # Most product types use `CENTER_ESA_FRAME` as the value for `frameNumber` (unlike S1 and ALOS, which use `FRAME_NUMBER`), \n",
    "        # this creates a new `esaFrame` property so we have that value too\n",
    "        'esaFrame': {'path': ['AdditionalAttributes', ('Name', 'CENTER_ESA_FRAME'), 'Values', 0], 'cast': try_parse_int}, #Sentinel and ALOS product alt for frameNumber (ESA_FRAME)\n",
    "    }\n",
    "\n",
    "    \"\"\" Example umm that the above pathing would map to:\n",
    "        'umm': {\n",
    "            'AdditionalAttributes': [\n",
    "                {\n",
    "                    'Name': 'CENTER_ESA_FRAME',\n",
    "                    \"Values\": ['1300'] \n",
    "                },\n",
    "                ...\n",
    "            ],\n",
    "            ...\n",
    "        }\n",
    "    \"\"\"\n",
    "\n",
    "    # write custom methods\n",
    "    def as_umm_json(self) -> dict:\n",
    "        return { 'umm': self.umm, 'meta': self.meta }\n",
    "    \n",
    "    # Or Override built in ASFProduct methods, like `geojson()`, `get_stack_opts()`, or `get_default_baseline_product_type()`\n",
    "    \n",
    "    # This override of `geojson()` includes the product's state vectors in the final geojson output, \n",
    "    # along with a custom class field timestamp and what version of asf-search was used at runtime\n",
    "    def geojson(self) -> dict:\n",
    "        output = super().geojson()\n",
    "\n",
    "        output['properties']['stateVectors'] = self.get_state_vectors()\n",
    "        output['properties']['timestamp'] = str(self.timestamp)\n",
    "        output['properties']['ASFSearchVersion'] = asf.__version__\n",
    "        return output\n",
    "    \n",
    "    # This method is used internally by `ASFProduct.translate_product()` \n",
    "    # to traverse the granule UMM for each property's corresponding values\n",
    "    @staticmethod\n",
    "    def get_property_paths() -> dict:\n",
    "        return {\n",
    "            **asf.S1Product.get_property_paths(),\n",
    "            **MyCustomS1Subclass._base_properties\n",
    "        }\n",
    "    \n",
    "    # This method normally stacks the current product\n",
    "    # in this version we search for every SLC-BURST product that\n",
    "    # overlaps the given area, and return a list of burst stacks\n",
    "    def stack(self, \n",
    "            opts: ASFSearchOptions = None,\n",
    "            aoi: str = None,\n",
    "            useSubclass: Type[asf.ASFProduct] = None):\n",
    "        \n",
    "        bursts = asf.search(\n",
    "            groupID=self.properties['groupID'], \n",
    "            processingLevel=asf.PRODUCT_TYPE.BURST,\n",
    "            intersectsWith=aoi if aoi is not None else opts.intersectsWith\n",
    "        )\n",
    "\n",
    "        if len(bursts) == 0: # use default S1Product version if there's no SLC_BURST\n",
    "            return super().stack(opts=opts, useSubclass=useSubclass)\n",
    "        \n",
    "        return [burst.stack(opts=opts) for burst in bursts]\n",
    "\n",
    "customS1SubclassProduct = MyCustomS1Subclass({'umm': s1.umm, 'meta': s1.meta}, session=s1.session)\n",
    "\n",
    "customS1SubclassProduct.geojson()"
   ]
  },
  {
   "cell_type": "markdown",
   "metadata": {},
   "source": [
    "Notice the `customProperties` field in the output from `geojson()`."
   ]
  },
  {
   "cell_type": "code",
   "execution_count": null,
   "metadata": {},
   "outputs": [],
   "source": [
    "fairbanks_area = 'LINESTRING(-147.2885 64.7464,-147.733 64.8586,-148.1878 64.731)'\n",
    "customStack = customS1SubclassProduct.stack(aoi=fairbanks_area)\n",
    "customStack"
   ]
  },
  {
   "cell_type": "code",
   "execution_count": null,
   "metadata": {},
   "outputs": [],
   "source": [
    "from typing import List\n",
    "\n",
    "def view_stack_of_stacks(stack_of_stacks: List):\n",
    "    print(f'Found {len(stack_of_stacks)} SLC-BURST stacks over AOI, stack lengths:')\n",
    "    for stack_idx, stack in enumerate(stack_of_stacks):\n",
    "        print(f\"\\t{stack_idx+1}:\\t{len(stack)} SLC-BURSTs \\t(Full Burst ID: {stack[-1].properties['burst']['fullBurstID']})\")\n",
    "\n",
    "view_stack_of_stacks(customStack)"
   ]
  },
  {
   "cell_type": "code",
   "execution_count": null,
   "metadata": {},
   "outputs": [],
   "source": [
    "compare_properties(s1, customS1SubclassProduct)"
   ]
  },
  {
   "cell_type": "markdown",
   "metadata": {},
   "source": [
    "# Using Custom `ASFProduct` Subclasses in Baseline Search\n",
    "\n",
    "There may be instances where you want to build a spatio-temporal baseline stack from a reference of a custom subclass. `stack_from_id()` and `ASFProduct.stack()` support this via the `ASFProductSubclass` keyword."
   ]
  },
  {
   "cell_type": "code",
   "execution_count": null,
   "metadata": {},
   "outputs": [],
   "source": [
    "opts = asf.ASFSearchOptions(intersectsWith=fairbanks_area) # our custom class will be able to use our aoi this way\n",
    "\n",
    "customSubclassStack = asf.stack_from_id('S1A_IW_SLC__1SDV_20231224T032123_20231224T032150_051791_064179_16F5-SLC', opts=opts, useSubclass=MyCustomS1Subclass)\n",
    "\n",
    "view_stack_of_stacks(customSubclassStack)"
   ]
  }
 ],
 "metadata": {
  "kernelspec": {
   "display_name": "asf-search-env-current",
   "language": "python",
   "name": "python3"
  },
  "language_info": {
   "codemirror_mode": {
    "name": "ipython",
    "version": 3
   },
   "file_extension": ".py",
   "mimetype": "text/x-python",
   "name": "python",
   "nbconvert_exporter": "python",
   "pygments_lexer": "ipython3",
   "version": "3.10.12"
  }
 },
 "nbformat": 4,
 "nbformat_minor": 2
}
