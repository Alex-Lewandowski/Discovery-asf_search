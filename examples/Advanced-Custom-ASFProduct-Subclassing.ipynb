{
 "cells": [
  {
   "cell_type": "markdown",
   "metadata": {},
   "source": [
    "# Subclassing `ASFProduct`\n",
    "\n",
    "`ASFProduct` is the base class for all search result objects as of asf-search v7.0.0. There are several subclasses of `ASFProduct` that asf-search uses for specific platforms and product types with unique properties/functionality."
   ]
  },
  {
   "cell_type": "code",
   "execution_count": null,
   "metadata": {},
   "outputs": [],
   "source": [
    "import asf_search as asf\n",
    "products = ['S1A_IW_SLC__1SDV_20231226T162948_20231226T163016_051828_0642C6_272F-SLC', 'S1_185682_IW2_20210224T161634_VV_035E-BURST','S1-GUNW-D-R-087-tops-20190301_20190223-161540-20645N_18637N-PP-7a85-v2_0_1-unwrappedPhase','ALPSRP111041130-RTC_HI_RES']\n",
    "results = asf.product_search(product_list=products)\n",
    "results"
   ]
  },
  {
   "cell_type": "markdown",
   "metadata": {},
   "source": [
    "Notice the different type in the `results` list: `S1Product`, `S1BURSTProduct`, `ARIAS1GUNWProduct`, and `ALOSProduct`.\n",
    "Each of these are subclasses of type `ASFProduct`.\n",
    "\n",
    "Let's compare the `properties` of `S1Product` and `ALOSProduct`"
   ]
  },
  {
   "cell_type": "code",
   "execution_count": null,
   "metadata": {},
   "outputs": [],
   "source": [
    "s1, s1Burst, ariaGunw, alos = results\n",
    "\n",
    "def compare_properties(lhs: asf.ASFProduct, rhs: asf.ASFProduct):\n",
    "    # Compares properties of two ASFProduct objects in a color coded table\n",
    "    # values printed in red are missing from that product type altogether\n",
    "    \n",
    "    # Color Coding\n",
    "    RED = '\\033[31m'\n",
    "    GREEN = '\\033[32m'\n",
    "    BLUE  = '\\033[34m'\n",
    "    RESET = '\\033[0m'\n",
    "\n",
    "    print(f'\\t{GREEN}{type(lhs)}{RESET}\\t{BLUE}{type(rhs)}{RESET}')\n",
    "    \n",
    "    keys = {*lhs.properties.keys(), *rhs.properties.keys()}\n",
    "    for key in keys:\n",
    "        print(f\"{key}:\\n\\t{GREEN}{lhs.properties.get(key, f'{RED}None')}{RESET}\\t{BLUE}{rhs.properties.get(key, f'{RED}None')}{RESET}\\n\")\n",
    "\n",
    "compare_properties(s1, alos)"
   ]
  },
  {
   "cell_type": "markdown",
   "metadata": {},
   "source": [
    "Notice a few properties (marked in red) are missing from each product properties dict. For example, `S1Product` has `pgeVersion`, while `ALOSProduct` has `offNadirAngle`, `faradayRotation`, and `insarStackId`. Moreover, their `baseline` field differs."
   ]
  },
  {
   "cell_type": "code",
   "execution_count": null,
   "metadata": {},
   "outputs": [],
   "source": [
    "print(f\"{s1.properties['fileID']}\\n\\t{s1.baseline}\\n\")\n",
    "print(f\"{alos.properties['fileID']}\\n\\t{alos.baseline}\")"
   ]
  },
  {
   "cell_type": "markdown",
   "metadata": {},
   "source": [
    "`ASFProduct` has a class enum, `BaselineCalcType` that determines how asf-search will handle perpendicular stack calculations. Each subclass keeps track of their baseline calculation type via `ASFProduct.baseline_type`\n",
    "\n",
    "The three `BaselineCalcType` types:\n",
    "- `NONE` Cannot be used in baseline calculations\n",
    "- `PRE_CALCULATED` Has pre-calculated insarBaseline value that will be used for perpendicular calculations\n",
    "- `CALCULATED` Uses position/velocity state vectors and ascending node time for perpendicular calculations\n",
    "\n",
    "Any subclass object that changes `baseline_type` from the default of `BaselineCalcType.NONE` is elligble for building a baseline stacking with `ASFProduct.stack()` (see the 4-Baseline_Search.ipynb example notebook for more examples of baseline stacking)."
   ]
  },
  {
   "cell_type": "code",
   "execution_count": null,
   "metadata": {},
   "outputs": [],
   "source": [
    "print(f\"Baseline Calculation Types\")\n",
    "print(f\"ASFProduct:\\t {asf.ASFProduct.baseline_type}\")\n",
    "print(f\"ALOSProduct:\\t {alos.baseline_type}\")\n",
    "print(f\"S1Product:\\t {s1.baseline_type}\")"
   ]
  },
  {
   "cell_type": "markdown",
   "metadata": {},
   "source": [
    "`ASFProduct` subclasses even have their own stack search option methods. The `ASFProduct` implementation of `get_stack_opts()` returns `None`, but subclasses like `S1Product` and `ALOSProduct` have different approaches."
   ]
  },
  {
   "cell_type": "code",
   "execution_count": null,
   "metadata": {},
   "outputs": [],
   "source": [
    "print(f\"S1Product:\\n{s1.get_stack_opts()}\\n\")\n",
    "print(f\"ALOSProduct:\\n{alos.get_stack_opts()}\")"
   ]
  },
  {
   "cell_type": "markdown",
   "metadata": {},
   "source": [
    "Sublcasses of type `ASFProduct` can just as easily be parent classes to other subclasses, like `S1Product`, which is the parent class to `S1BurstProduct` and `ARIAS1GUNWProduct`."
   ]
  },
  {
   "cell_type": "code",
   "execution_count": null,
   "metadata": {},
   "outputs": [],
   "source": [
    "print(\"S1BurstProduct:\")\n",
    "print(f\"\\tburst dict:\\n\\t{s1Burst.properties['burst']}\")\n",
    "print(f\"\\nS1BurstProduct.get_stack_opts(): {s1Burst.get_stack_opts()}\\n\\n\")\n",
    "\n",
    "print(f\"ARIAS1GUNWProduct:\")\n",
    "print(f\"\\tperpendicularBaseline: {ariaGunw.properties['perpendicularBaseline']}\")\n",
    "print(f\"\\tOrbit: {ariaGunw.properties['orbit']}\")"
   ]
  },
  {
   "cell_type": "markdown",
   "metadata": {},
   "source": [
    "Because `ASFProduct` is built for subclassing, that means users can provide their own custom subclasses."
   ]
  },
  {
   "cell_type": "code",
   "execution_count": null,
   "metadata": {},
   "outputs": [],
   "source": [
    "import copy\n",
    "from typing import Union\n",
    "from asf_search import ASFSearchOptions, ASFSession\n",
    "from asf_search.ASFSearchOptions import ASFSearchOptions\n",
    "from typing import Dict\n",
    "\n",
    "class MyCustomS1Subclass(asf.S1Product):\n",
    "    def __init__(\n",
    "                #default ASFProduct arguments\n",
    "                self, args: Dict = {}, session: ASFSession = ASFSession(), \n",
    "                #custom properties\n",
    "                custom_properties: Dict = {}\n",
    "            ):\n",
    "        super().__init__(args, session)\n",
    "\n",
    "        # unique property of MyCustomClass\n",
    "        self.custom_properties = custom_properties\n",
    "    \n",
    "    # write custom methods\n",
    "    def as_umm_json(self) -> Dict:\n",
    "        return { 'umm': self.umm, 'meta': self.meta }\n",
    "    \n",
    "    # Override built in ASFProduct methods, like `geojson()`, `get_stack_opts()`, or `get_default_baseline_product_type()`\n",
    "    def geojson(self) -> Dict:\n",
    "        output = {\n",
    "            **super().geojson()\n",
    "        }\n",
    "\n",
    "        output['properties'] = {\n",
    "            **output['properties'],\n",
    "            'customProperties': self.custom_properties\n",
    "        }\n",
    "\n",
    "        return output\n",
    "    \n",
    "    def get_stack_opts(self, opts: ASFSearchOptions = None) -> ASFSearchOptions:\n",
    "        # use S1Product's stack opt already written functionality\n",
    "        opts = super().get_stack_opts(opts)\n",
    "\n",
    "        # but use some new product type to build the stack instead of S1Product's default, \"SLC\"\n",
    "        opts.processingLevel = self.get_default_baseline_product_type()\n",
    "\n",
    "        return opts\n",
    "    \n",
    "    @staticmethod\n",
    "    def get_default_baseline_product_type() -> Union[str, None]:\n",
    "        \"\"\"\n",
    "        Returns the product type to search for when building a baseline stack.\n",
    "        \"\"\"\n",
    "        return 'NEW_PRODUCT_TYPE'\n",
    "\n",
    "customS1SubclassProduct = MyCustomS1Subclass({'umm': s1.umm, 'meta': s1.meta}, session=s1.session, custom_properties={'customProperty': 'This is a special property'})\n",
    "\n",
    "customS1SubclassProduct.geojson()"
   ]
  },
  {
   "cell_type": "markdown",
   "metadata": {},
   "source": [
    "Notice the `customProperties` field in the output from `geojson()`.\n",
    "`get_stack_opts()` should also use S1Product's stack ops, but with `NEW_PRODUCT_TYPE` instead of `SLC`:"
   ]
  },
  {
   "cell_type": "code",
   "execution_count": null,
   "metadata": {},
   "outputs": [],
   "source": [
    "print(customS1SubclassProduct.get_stack_opts())"
   ]
  }
 ],
 "metadata": {
  "kernelspec": {
   "display_name": "asf-search-env-current",
   "language": "python",
   "name": "python3"
  },
  "language_info": {
   "codemirror_mode": {
    "name": "ipython",
    "version": 3
   },
   "file_extension": ".py",
   "mimetype": "text/x-python",
   "name": "python",
   "nbconvert_exporter": "python",
   "pygments_lexer": "ipython3",
   "version": "3.10.12"
  }
 },
 "nbformat": 4,
 "nbformat_minor": 2
}
